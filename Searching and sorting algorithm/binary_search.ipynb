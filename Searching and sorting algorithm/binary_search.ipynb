{
 "cells": [
  {
   "cell_type": "markdown",
   "metadata": {},
   "source": [
    "### Binary search"
   ]
  },
  {
   "cell_type": "markdown",
   "metadata": {},
   "source": [
    " Binary search is a search algorithm that finds the position of a target value within a sorted array.\n",
    " It compares the target value to the middle element of the array.\n",
    " it the target value is less than the middle element, the search continues in the lower half of the array.\n",
    " If the target value is greater than the middle element, the search continues in the upper half of the array.\n",
    " This process continues until the target value is found or the search space is empty."
   ]
  },
  {
   "cell_type": "code",
   "execution_count": null,
   "metadata": {},
   "outputs": [],
   "source": []
  }
 ],
 "metadata": {
  "kernelspec": {
   "display_name": "Python 3",
   "language": "python",
   "name": "python3"
  },
  "language_info": {
   "name": "python",
   "version": "3.12.3"
  }
 },
 "nbformat": 4,
 "nbformat_minor": 2
}
