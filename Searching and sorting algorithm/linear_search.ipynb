{
 "cells": [
  {
   "cell_type": "markdown",
   "metadata": {},
   "source": [
    "### Linear search"
   ]
  },
  {
   "cell_type": "markdown",
   "metadata": {},
   "source": [
    "Linear search is a simple search algorithm that checks each element in the list one by one until it finds the target element or reaches the end of the list.\n",
    "\n",
    "It is not the most efficient search algorithm, especially for large lists, but it is easy to implement and understand.\n",
    "Linear search is best suited for small lists or when the list is unsorted.\n",
    "It is not efficient for large lists or sorted lists, where binary search would be a better choice.\n",
    "Linear search is a simple and straightforward algorithm that can be used in various programming languages."
   ]
  },
  {
   "cell_type": "code",
   "execution_count": null,
   "metadata": {},
   "outputs": [
    {
     "name": "stdout",
     "output_type": "stream",
     "text": [
      "Element found at index 3\n"
     ]
    }
   ],
   "source": [
    "def linear_search(arr,target):\n",
    "    size=len(arr)\n",
    "    for index in range(0,size):\n",
    "        if arr[index]==target:\n",
    "            return index\n",
    "    \n",
    "    return -1\n",
    "\n",
    "\n",
    "my_list=[10,23,45,70,11]\n",
    "\n",
    "target=70\n",
    "\n",
    "result=linear_search(my_list,target)\n",
    "if result==-1:\n",
    "    print(\"Element not found in the list\")\n",
    "else:\n",
    "    print(\"Element found at index\",result)\n",
    "# Time complexity: O(n)\n",
    "# Space complexity: O(1)\n",
    "# The time complexity of linear search is O(n) because in the worst case, we may have to check every element in the list.\n",
    "# The space complexity is O(1) because we are using a constant amount of space for the index variable.\n",
    "\n",
    "\n"
   ]
  },
  {
   "cell_type": "code",
   "execution_count": null,
   "metadata": {},
   "outputs": [],
   "source": []
  }
 ],
 "metadata": {
  "kernelspec": {
   "display_name": "Python 3",
   "language": "python",
   "name": "python3"
  },
  "language_info": {
   "codemirror_mode": {
    "name": "ipython",
    "version": 3
   },
   "file_extension": ".py",
   "mimetype": "text/x-python",
   "name": "python",
   "nbconvert_exporter": "python",
   "pygments_lexer": "ipython3",
   "version": "3.12.3"
  }
 },
 "nbformat": 4,
 "nbformat_minor": 2
}
