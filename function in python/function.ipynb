{
 "cells": [
  {
   "cell_type": "markdown",
   "metadata": {},
   "source": [
    "### Function"
   ]
  },
  {
   "cell_type": "markdown",
   "metadata": {},
   "source": [
    "A function is a block of code that perform specific task. function help in organizing code, reusing code, and improving readability."
   ]
  },
  {
   "cell_type": "code",
   "execution_count": null,
   "metadata": {},
   "outputs": [],
   "source": [
    "## syntax\n",
    "\n",
    "def function_name(parameters):\n",
    "\n",
    "    \"\"\"Docstring\"\"\"\n",
    "    # function body\n",
    "    return value"
   ]
  },
  {
   "cell_type": "code",
   "execution_count": null,
   "metadata": {},
   "outputs": [],
   "source": [
    "## why functions?\n",
    "# 1. code reuse\n",
    "# 2. code organization\n",
    "# 3. code readability\n",
    "\n",
    "## defining functions\n",
    "def greet_user():\n",
    "    \"\"\"Display a simple greeting.\"\"\"\n",
    "    print(\"Hello!\")\n"
   ]
  },
  {
   "cell_type": "code",
   "execution_count": 1,
   "metadata": {},
   "outputs": [
    {
     "name": "stdout",
     "output_type": "stream",
     "text": [
      "Even\n",
      "Odd\n"
     ]
    }
   ],
   "source": [
    "## this function find even or odd number\n",
    "\n",
    "def even_odd(num):\n",
    "    if num % 2 == 0:\n",
    "        print(\"Even\")\n",
    "    else:\n",
    "        print(\"Odd\")\n",
    "\n",
    "## calling functions\n",
    "even_odd(2)\n",
    "even_odd(3)\n"
   ]
  },
  {
   "cell_type": "code",
   "execution_count": null,
   "metadata": {},
   "outputs": [
    {
     "name": "stdout",
     "output_type": "stream",
     "text": [
      "5\n",
      "5\n"
     ]
    }
   ],
   "source": [
    "## function with multiple parameters\n",
    "def add(a,b):\n",
    "    return a+b\n",
    "\n",
    "print(add(2,3))\n",
    "   # or #\n",
    "result = add(2,3)\n",
    "print(result)\n"
   ]
  },
  {
   "cell_type": "code",
   "execution_count": 4,
   "metadata": {},
   "outputs": [
    {
     "name": "stdout",
     "output_type": "stream",
     "text": [
      "hello abhinav\n"
     ]
    }
   ],
   "source": [
    "### function with default parameters\n",
    "def greet(name):\n",
    "    print(f\"hello {name}\")\n",
    "\n",
    "greet(\"abhinav\")"
   ]
  },
  {
   "cell_type": "code",
   "execution_count": null,
   "metadata": {},
   "outputs": [
    {
     "name": "stdout",
     "output_type": "stream",
     "text": [
      "hello abhinav\n"
     ]
    }
   ],
   "source": [
    "def greet(name=\"abhinav\"): # default parameter \n",
    "    print(f\"hello {name}\")\n",
    "\n",
    "greet()"
   ]
  },
  {
   "cell_type": "code",
   "execution_count": 11,
   "metadata": {},
   "outputs": [
    {
     "name": "stdout",
     "output_type": "stream",
     "text": [
      "1 2 3 4 5 \n",
      "-----------------\n",
      "name: abhinav\n",
      "age: 21\n",
      "city: prayagraj\n"
     ]
    }
   ],
   "source": [
    "### variable lenght arguments\n",
    "\n",
    "## 1- positional arguments\n",
    "\n",
    "def print_numbers(*args): \n",
    "    for num in args:\n",
    "        print(num , end=\" \")\n",
    "\n",
    "print_numbers(1,2,3,4,5)\n",
    "\n",
    "print(\"\\n-----------------\")\n",
    "\n",
    "## 2- keyword arguments\n",
    "\n",
    "def print_details(**kwargs):\n",
    "    for key, value in kwargs.items():\n",
    "        print(f\"{key}: {value}\")\n",
    "\n",
    "print_details(name=\"abhinav\", age=21, city=\"prayagraj\")\n",
    "    "
   ]
  },
  {
   "cell_type": "code",
   "execution_count": 12,
   "metadata": {},
   "outputs": [
    {
     "name": "stdout",
     "output_type": "stream",
     "text": [
      "positional - 1\n",
      "positional - 2\n",
      "positional - 3\n",
      "positional - 4\n",
      "positional - 5\n",
      "keyword- name: abhinav\n",
      "keyword- age: 21\n",
      "keyword- city: prayagraj\n"
     ]
    }
   ],
   "source": [
    "def print_details(*args, **kwargs):\n",
    "    for value in args:\n",
    "        print(f\"positional - {value}\")\n",
    "    for key, value in kwargs.items():\n",
    "        print(f\"keyword- {key}: {value}\")\n",
    "\n",
    "print_details(1,2,3,4,5, name=\"abhinav\", age=21, city=\"prayagraj\")\n"
   ]
  }
 ],
 "metadata": {
  "kernelspec": {
   "display_name": "Python 3",
   "language": "python",
   "name": "python3"
  },
  "language_info": {
   "codemirror_mode": {
    "name": "ipython",
    "version": 3
   },
   "file_extension": ".py",
   "mimetype": "text/x-python",
   "name": "python",
   "nbconvert_exporter": "python",
   "pygments_lexer": "ipython3",
   "version": "3.12.3"
  }
 },
 "nbformat": 4,
 "nbformat_minor": 2
}
