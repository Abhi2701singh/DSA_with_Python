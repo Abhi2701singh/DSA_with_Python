{
 "cells": [
  {
   "cell_type": "markdown",
   "metadata": {},
   "source": [
    "### Example-1 Temperature Conversion"
   ]
  },
  {
   "cell_type": "code",
   "execution_count": 2,
   "metadata": {},
   "outputs": [
    {
     "name": "stdout",
     "output_type": "stream",
     "text": [
      "212.0\n",
      "100.0\n",
      "37.77777777777778\n",
      "413.6\n",
      "Invalid unit\n"
     ]
    }
   ],
   "source": [
    "def convert_temp(temp,unit):\n",
    "    if unit==\"C\":\n",
    "        return temp*9/5+32\n",
    "    elif unit==\"F\":\n",
    "        return (temp-32)*5/9\n",
    "    else:\n",
    "        return \"Invalid unit\"\n",
    "print(convert_temp(100,\"C\"))\n",
    "print(convert_temp(212,\"F\"))\n",
    "print(convert_temp(100,\"F\"))\n",
    "print(convert_temp(212,\"C\"))\n",
    "print(convert_temp(100,\"A\"))\n"
   ]
  },
  {
   "cell_type": "markdown",
   "metadata": {},
   "source": [
    "### Example-2 Password Strength Checker."
   ]
  },
  {
   "cell_type": "code",
   "execution_count": 3,
   "metadata": {},
   "outputs": [
    {
     "name": "stdout",
     "output_type": "stream",
     "text": [
      "False\n",
      "False\n",
      "False\n",
      "False\n",
      "True\n",
      "True\n"
     ]
    }
   ],
   "source": [
    "def is_strong_password(password):\n",
    "    if len(password)<8:\n",
    "        return False\n",
    "    if password.isalpha():\n",
    "        return False\n",
    "    if password.isdigit():\n",
    "        return False\n",
    "    if password.islower():\n",
    "        return False\n",
    "    if password.isupper():\n",
    "        return False\n",
    "    return True\n",
    "print(is_strong_password(\"abc\"))\n",
    "print(is_strong_password(\"123\"))\n",
    "print(is_strong_password(\"ABC\"))\n",
    "print(is_strong_password(\"abcABC\"))\n",
    "print(is_strong_password(\"abcABC123\"))\n",
    "print(is_strong_password(\"abcABC123!@#\"))"
   ]
  },
  {
   "cell_type": "markdown",
   "metadata": {},
   "source": [
    "### Example-3  Calculate the total cost of items in a shoping cart."
   ]
  },
  {
   "cell_type": "code",
   "execution_count": 6,
   "metadata": {},
   "outputs": [
    {
     "name": "stdout",
     "output_type": "stream",
     "text": [
      "total cost of the cart is 30.87\n"
     ]
    }
   ],
   "source": [
    "def calculate_total_cart(cart):\n",
    "    total_cost=0\n",
    "    for item in cart:\n",
    "        total_cost+=item[\"price\"]*item[\"quantity\"]\n",
    "    return total_cost\n",
    "\n",
    "\n",
    "cart=[\n",
    "    {\"name\":\"apple\",\"price\":1.99,\"quantity\":3},\n",
    "    {\"name\":\"banana\",\"price\":0.99,\"quantity\":3},\n",
    "    {\"name\":\"orange\",\"price\":1.49,\"quantity\":2},\n",
    "    {\"name\":\"kiwi\",\"price\":2.99,\"quantity\":1},\n",
    "    {\"name\":\"grape\",\"price\":3.99,\"quantity\":4},\n",
    "]\n",
    "\n",
    "print(\"total cost of the cart is\",calculate_total_cart(cart))\n"
   ]
  },
  {
   "cell_type": "markdown",
   "metadata": {},
   "source": [
    "### Example-4 check if a string a palindrome"
   ]
  },
  {
   "cell_type": "code",
   "execution_count": 7,
   "metadata": {},
   "outputs": [
    {
     "name": "stdout",
     "output_type": "stream",
     "text": [
      "True\n",
      "False\n",
      "True\n",
      "True\n",
      "False\n"
     ]
    }
   ],
   "source": [
    "def is_palindrome(word):\n",
    "    return word==word[::-1]\n",
    "print(is_palindrome(\"madam\"))\n",
    "print(is_palindrome(\"hello\"))\n",
    "print(is_palindrome(\"level\"))\n",
    "print(is_palindrome(\"noon\"))\n",
    "print(is_palindrome(\"python\"))"
   ]
  },
  {
   "cell_type": "markdown",
   "metadata": {},
   "source": [
    "### Example-5 calculate the factorials of a number using recurion."
   ]
  },
  {
   "cell_type": "code",
   "execution_count": 8,
   "metadata": {},
   "outputs": [
    {
     "name": "stdout",
     "output_type": "stream",
     "text": [
      "120\n",
      "3628800\n",
      "1\n",
      "1\n",
      "6\n"
     ]
    }
   ],
   "source": [
    "def factorial(n):\n",
    "    if n==0:\n",
    "        return 1\n",
    "    else:\n",
    "        return n*factorial(n-1)\n",
    "    \n",
    "print(factorial(5))\n",
    "print(factorial(10))\n",
    "print(factorial(0))\n",
    "print(factorial(1))\n",
    "print(factorial(3))"
   ]
  },
  {
   "cell_type": "markdown",
   "metadata": {},
   "source": [
    "### Example-6 A function to read a file and count the frequency of each word."
   ]
  },
  {
   "cell_type": "code",
   "execution_count": 9,
   "metadata": {},
   "outputs": [
    {
     "name": "stdout",
     "output_type": "stream",
     "text": [
      "{'hello': 1, 'everyone': 1, 'my': 1, 'name': 1, 'is': 1, 'abhinav': 1, 'singh.': 1}\n"
     ]
    }
   ],
   "source": [
    "def count_word_frequency(file_path):\n",
    "    word_freq={}\n",
    "    with open(file_path) as file:\n",
    "        for line in file:\n",
    "            words=line.strip().split()\n",
    "            for word in words:\n",
    "                if word in word_freq:\n",
    "                    word_freq[word]+=1\n",
    "                else:\n",
    "                    word_freq[word]=1\n",
    "    return word_freq\n",
    "\n",
    "print(count_word_frequency(\"sample.txt\"))\n",
    "\n"
   ]
  },
  {
   "cell_type": "markdown",
   "metadata": {},
   "source": [
    "### Example-7 Validate Email Address\n"
   ]
  },
  {
   "cell_type": "code",
   "execution_count": null,
   "metadata": {},
   "outputs": [
    {
     "name": "stdout",
     "output_type": "stream",
     "text": [
      "True\n"
     ]
    }
   ],
   "source": [
    "def is_valid_email(email):\n",
    "    if email.count(\"@\")!=1:\n",
    "        return False\n",
    "    if email.count(\".\")==0:\n",
    "        return False\n",
    "\n",
    "    return True\n",
    "\n",
    "print(is_valid_email(\"text@gmail.com\"))"
   ]
  }
 ],
 "metadata": {
  "kernelspec": {
   "display_name": "Python 3",
   "language": "python",
   "name": "python3"
  },
  "language_info": {
   "codemirror_mode": {
    "name": "ipython",
    "version": 3
   },
   "file_extension": ".py",
   "mimetype": "text/x-python",
   "name": "python",
   "nbconvert_exporter": "python",
   "pygments_lexer": "ipython3",
   "version": "3.12.3"
  }
 },
 "nbformat": 4,
 "nbformat_minor": 2
}
