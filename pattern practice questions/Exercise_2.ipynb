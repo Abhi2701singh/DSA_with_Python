{
 "cells": [
  {
   "cell_type": "markdown",
   "metadata": {},
   "source": [
    "### Hollow Square of side 'N'"
   ]
  },
  {
   "cell_type": "markdown",
   "metadata": {},
   "source": [
    "Problem Description:\n",
    "\n",
    "You are given an integer n. Your task is to return a hollow square pattern of size n x n made up of the character ' * ', represented as a list of strings. The hollow square has '*' on the border, and spaces ' ' in the middle (except for side lengths of 1 and 2).\n",
    "\n",
    "\n",
    "\n",
    "Input Parameters:\n",
    "\n",
    "n (int): The size of the square (number of rows and columns).\n",
    "\n",
    "\n",
    "\n",
    "Output:\n",
    "\n",
    "A list of strings where each string is a row of n characters, representing a hollow square.\n",
    "\n",
    "\n",
    "\n",
    "Example:\n",
    "\n",
    "Input: 3\n",
    "Output: ['* * * ', '* * ', '***']\n",
    " \n",
    "Input: 5\n",
    "Output: ['* * * * * ', '*   * ', '*   * ', '*   * ', '* * * * *']"
   ]
  },
  {
   "cell_type": "code",
   "execution_count": 1,
   "metadata": {},
   "outputs": [
    {
     "name": "stdout",
     "output_type": "stream",
     "text": [
      "['***', '* *', '***']\n",
      "['*****', '*   *', '*   *', '*   *', '*****']\n"
     ]
    }
   ],
   "source": [
    "def generate_hollow_square(n):\n",
    "    \"\"\"\n",
    "    Function to return a hollow square pattern of '*' of side n as a list of strings.\n",
    "    \n",
    "    Parameters:\n",
    "    n (int): The size of the square.\n",
    "    \n",
    "    Returns:\n",
    "    list: A list of strings where each string represents a row of the hollow square.\n",
    "    \"\"\"\n",
    "    # Your code here\n",
    "    list1=[]\n",
    "    if n==1:\n",
    "        a='*'*n\n",
    "        list1.append(a)\n",
    "    elif n==2:\n",
    "        a='*'*n\n",
    "        list1.append(a)\n",
    "        list1.append(a)\n",
    "        \n",
    "        \n",
    "    else:\n",
    "        \n",
    "        first= '*'*n\n",
    "        middle = '*' + ' '*(n-2) + '*'\n",
    "        last='*'*n\n",
    "        \n",
    "        list1.append(first)\n",
    "        for i in range(n-2):\n",
    "            list1.append(middle)\n",
    "        list1.append(last)\n",
    "            \n",
    "    return list1  \n",
    "           \n",
    "\n",
    "print(generate_hollow_square(3))\n",
    "print(generate_hollow_square(5))"
   ]
  }
 ],
 "metadata": {
  "kernelspec": {
   "display_name": "Python 3",
   "language": "python",
   "name": "python3"
  },
  "language_info": {
   "codemirror_mode": {
    "name": "ipython",
    "version": 3
   },
   "file_extension": ".py",
   "mimetype": "text/x-python",
   "name": "python",
   "nbconvert_exporter": "python",
   "pygments_lexer": "ipython3",
   "version": "3.12.3"
  }
 },
 "nbformat": 4,
 "nbformat_minor": 2
}
