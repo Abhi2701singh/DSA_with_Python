{
 "cells": [
  {
   "cell_type": "markdown",
   "metadata": {},
   "source": [
    "### write a program to check if array is sorted ?"
   ]
  },
  {
   "cell_type": "code",
   "execution_count": 3,
   "metadata": {},
   "outputs": [
    {
     "name": "stdout",
     "output_type": "stream",
     "text": [
      "True\n"
     ]
    }
   ],
   "source": [
    "def check_sort(l1):\n",
    "\n",
    "    if (len(l1)==0 or len(l1)==1):\n",
    "        return True\n",
    "    \n",
    "    ans= check_sort(l1[1:])\n",
    "    if (l1[0]>l1[1]):\n",
    "        return False\n",
    "    else:\n",
    "        return ans\n",
    "    \n",
    "\n",
    "print(check_sort([1,2,3,4,5]))\n",
    "\n"
   ]
  },
  {
   "cell_type": "markdown",
   "metadata": {},
   "source": [
    "### sum of an array using recursion."
   ]
  },
  {
   "cell_type": "code",
   "execution_count": 4,
   "metadata": {},
   "outputs": [
    {
     "name": "stdout",
     "output_type": "stream",
     "text": [
      "15\n"
     ]
    }
   ],
   "source": [
    "def sum_arr(l1):\n",
    "    if (len(l1)==0):\n",
    "        return 0\n",
    "    \n",
    "    return l1[0]+sum_arr(l1[1:])\n",
    "\n",
    "\n",
    "print(sum_arr([1,2,3,4,5]))"
   ]
  },
  {
   "cell_type": "markdown",
   "metadata": {},
   "source": [
    "### Q : find , first index of element."
   ]
  },
  {
   "cell_type": "code",
   "execution_count": 1,
   "metadata": {},
   "outputs": [
    {
     "name": "stdout",
     "output_type": "stream",
     "text": [
      "2\n"
     ]
    }
   ],
   "source": [
    "def first_index_of_element(l1, x):\n",
    "    if (len(l1)==0):\n",
    "        return -1\n",
    "    \n",
    "    if (l1[0]==x):\n",
    "        return 0\n",
    "    \n",
    "    ans= first_index_of_element(l1[1:], x)\n",
    "    if (ans==-1):\n",
    "        return -1\n",
    "    else:\n",
    "        return ans+1\n",
    "    \n",
    "print(first_index_of_element([1,2,3,4,5], 3))"
   ]
  },
  {
   "cell_type": "markdown",
   "metadata": {},
   "source": [
    "### Q : find , last index of element."
   ]
  },
  {
   "cell_type": "code",
   "execution_count": 4,
   "metadata": {},
   "outputs": [
    {
     "name": "stdout",
     "output_type": "stream",
     "text": [
      "6\n"
     ]
    }
   ],
   "source": [
    "def last_index_of_element(l1, x):\n",
    "    if (len(l1)==0):\n",
    "        return -1\n",
    "    \n",
    "    ans= last_index_of_element(l1[1:], x)\n",
    "    if (ans==-1):\n",
    "        if (l1[0]==x):\n",
    "            return 0\n",
    "        else:\n",
    "            return -1\n",
    "    else:\n",
    "        return ans+1\n",
    "    \n",
    "print(last_index_of_element([1,2,3,3,4,5,3], 3))"
   ]
  }
 ],
 "metadata": {
  "kernelspec": {
   "display_name": "Python 3",
   "language": "python",
   "name": "python3"
  },
  "language_info": {
   "codemirror_mode": {
    "name": "ipython",
    "version": 3
   },
   "file_extension": ".py",
   "mimetype": "text/x-python",
   "name": "python",
   "nbconvert_exporter": "python",
   "pygments_lexer": "ipython3",
   "version": "3.12.3"
  }
 },
 "nbformat": 4,
 "nbformat_minor": 2
}
