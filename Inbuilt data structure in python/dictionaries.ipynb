{
 "cells": [
  {
   "cell_type": "markdown",
   "metadata": {},
   "source": [
    "### dictionaries"
   ]
  },
  {
   "cell_type": "markdown",
   "metadata": {},
   "source": [
    "dictionaries are unordered collection of items they store data in key-value pairs. keys must be unique and immutable ."
   ]
  },
  {
   "cell_type": "code",
   "execution_count": 1,
   "metadata": {},
   "outputs": [
    {
     "name": "stdout",
     "output_type": "stream",
     "text": [
      "{}\n",
      "<class 'dict'>\n"
     ]
    }
   ],
   "source": [
    "## creating dictionary\n",
    "empty_dict={}\n",
    "print(empty_dict)\n",
    "print(type(empty_dict)) "
   ]
  },
  {
   "cell_type": "code",
   "execution_count": 2,
   "metadata": {},
   "outputs": [
    {
     "name": "stdout",
     "output_type": "stream",
     "text": [
      "{}\n"
     ]
    }
   ],
   "source": [
    "empty_dict=dict()\n",
    "print(empty_dict)"
   ]
  },
  {
   "cell_type": "code",
   "execution_count": 4,
   "metadata": {},
   "outputs": [
    {
     "name": "stdout",
     "output_type": "stream",
     "text": [
      "{'name': 'abhinav', 'age': 20, 'grade': 'A'}\n",
      "<class 'dict'>\n"
     ]
    }
   ],
   "source": [
    "student={\n",
    "    'name':'abhinav',\n",
    "    'age':20,\n",
    "    'grade':'A'\n",
    "}\n",
    "print(student)\n",
    "print(type(student))"
   ]
  },
  {
   "cell_type": "code",
   "execution_count": 5,
   "metadata": {},
   "outputs": [
    {
     "name": "stdout",
     "output_type": "stream",
     "text": [
      "abhinav\n",
      "20\n",
      "A\n"
     ]
    }
   ],
   "source": [
    "## accessing dictionary elements\n",
    "student={\n",
    "    'name':'abhinav',\n",
    "    'age':20,\n",
    "    'grade':'A'\n",
    "}\n",
    "\n",
    "print(student['name'])\n",
    "print(student['age'])\n",
    "print(student['grade'])\n"
   ]
  },
  {
   "cell_type": "code",
   "execution_count": 8,
   "metadata": {},
   "outputs": [
    {
     "name": "stdout",
     "output_type": "stream",
     "text": [
      "abhinav\n",
      "20\n",
      "A\n",
      "None\n",
      "not found\n"
     ]
    }
   ],
   "source": [
    "## accessing using get method\n",
    "student={\n",
    "    'name':'abhinav',\n",
    "    'age':20,\n",
    "    'grade':'A'\n",
    "}\n",
    "print(student.get('name'))\n",
    "print(student.get('age'))\n",
    "print(student.get('grade'))\n",
    "print(student.get('phone')) ## returns none \n",
    "print(student.get('phone','not found')) ## returns not found\n"
   ]
  },
  {
   "cell_type": "code",
   "execution_count": 10,
   "metadata": {},
   "outputs": [
    {
     "name": "stdout",
     "output_type": "stream",
     "text": [
      "{'name': 'abhinav', 'age': 20, 'grade': 'A'}\n",
      "{'name': 'abhi', 'age': 20, 'grade': 'A'}\n",
      "{'name': 'abhi', 'age': 20, 'grade': 'A', 'phone': '1234567890'}\n",
      "{'name': 'abhi', 'age': 20, 'grade': 'A'}\n"
     ]
    }
   ],
   "source": [
    "## modifying dictionary elements\n",
    "student={\n",
    "    'name':'abhinav',\n",
    "    'age':20,\n",
    "    'grade':'A'\n",
    "}\n",
    "print(student)\n",
    "student['name']='abhi' ## updating name\n",
    "print(student)\n",
    "student['phone']='1234567890' ## adding new key value pair\n",
    "print(student)\n",
    "del student['phone'] ## deleting key value pair\n",
    "print(student)\n"
   ]
  },
  {
   "cell_type": "code",
   "execution_count": 11,
   "metadata": {},
   "outputs": [
    {
     "name": "stdout",
     "output_type": "stream",
     "text": [
      "{'name': 'abhinav', 'age': 20, 'grade': 'A'}\n",
      "dict_keys(['name', 'age', 'grade'])\n",
      "dict_values(['abhinav', 20, 'A'])\n",
      "dict_items([('name', 'abhinav'), ('age', 20), ('grade', 'A')])\n",
      "20\n",
      "{'name': 'abhinav', 'grade': 'A'}\n",
      "('grade', 'A')\n",
      "{'name': 'abhinav'}\n",
      "{}\n"
     ]
    }
   ],
   "source": [
    "## dictionary methods\n",
    "student={\n",
    "    'name':'abhinav',\n",
    "    'age':20,\n",
    "    'grade':'A'\n",
    "}\n",
    "print(student)\n",
    "print(student.keys())\n",
    "print(student.values())\n",
    "print(student.items())\n",
    "print(student.pop('age')) ## removes age key value pair\n",
    "print(student)\n",
    "print(student.popitem()) ## removes last key value pair\n",
    "print(student)\n",
    "student.clear() ## clears dictionary\n",
    "print(student)\n"
   ]
  },
  {
   "cell_type": "code",
   "execution_count": 12,
   "metadata": {},
   "outputs": [
    {
     "name": "stdout",
     "output_type": "stream",
     "text": [
      "{'name': 'abhinav', 'age': 20, 'grade': 'A'}\n",
      "{'name': 'abhinav', 'age': 20, 'grade': 'A'}\n",
      "{'name': 'abhinav', 'age': 20, 'grade': 'A'}\n",
      "{'name': 'abhi', 'age': 20, 'grade': 'A'}\n"
     ]
    }
   ],
   "source": [
    "## shallow copy\n",
    "student={\n",
    "    'name':'abhinav',\n",
    "    'age':20,\n",
    "    'grade':'A'\n",
    "}\n",
    "student2=student.copy()\n",
    "print(student)\n",
    "print(student2)\n",
    "student2['name']='abhi'\n",
    "print(student)\n",
    "print(student2)\n"
   ]
  },
  {
   "cell_type": "code",
   "execution_count": null,
   "metadata": {},
   "outputs": [
    {
     "name": "stdout",
     "output_type": "stream",
     "text": [
      "name\n",
      "abhinav age\n",
      "20 grade\n",
      "A "
     ]
    }
   ],
   "source": [
    "## iterating over dictionary\n",
    "student={\n",
    "    'name':'abhinav',\n",
    "    'age':20,\n",
    "    'grade':'A'\n",
    "}\n",
    "for key in student:\n",
    "    print(key)\n",
    "    print(student[key])\n"
   ]
  },
  {
   "cell_type": "code",
   "execution_count": 16,
   "metadata": {},
   "outputs": [
    {
     "name": "stdout",
     "output_type": "stream",
     "text": [
      "abhinav\n",
      "20\n",
      "A\n"
     ]
    }
   ],
   "source": [
    "## iterating over values\n",
    "student={\n",
    "    'name':'abhinav',\n",
    "    'age':20,\n",
    "    'grade':'A'\n",
    "}\n",
    "for value in student.values():\n",
    "    print(value)\n",
    "    "
   ]
  },
  {
   "cell_type": "code",
   "execution_count": 17,
   "metadata": {},
   "outputs": [
    {
     "name": "stdout",
     "output_type": "stream",
     "text": [
      "name abhinav\n",
      "age 20\n",
      "grade A\n"
     ]
    }
   ],
   "source": [
    "## iterating over items\n",
    "student={\n",
    "    'name':'abhinav',\n",
    "    'age':20,\n",
    "    'grade':'A'\n",
    "}\n",
    "for key,value in student.items():\n",
    "    print(key,value)\n",
    "    "
   ]
  },
  {
   "cell_type": "code",
   "execution_count": 18,
   "metadata": {},
   "outputs": [
    {
     "name": "stdout",
     "output_type": "stream",
     "text": [
      "name\n",
      "age\n",
      "grade\n"
     ]
    }
   ],
   "source": [
    "## iterating over keys\n",
    "student={\n",
    "    'name':'abhinav',\n",
    "    'age':20,\n",
    "    'grade':'A'\n",
    "}\n",
    "for key in student.keys():\n",
    "    print(key)\n",
    "    "
   ]
  },
  {
   "cell_type": "code",
   "execution_count": 22,
   "metadata": {},
   "outputs": [
    {
     "name": "stdout",
     "output_type": "stream",
     "text": [
      "{'student1': {'name': 'abhinav', 'age': 20, 'grade': 'A'}, 'student2': {'name': 'abhi', 'age': 25, 'grade': 'B'}}\n",
      "{'name': 'abhinav', 'age': 20, 'grade': 'A'}\n",
      "{'name': 'abhi', 'age': 25, 'grade': 'B'}\n",
      "abhinav\n",
      "abhi\n"
     ]
    }
   ],
   "source": [
    "## nested dictionary\n",
    "students={\n",
    "    'student1':{\n",
    "        'name':'abhinav',\n",
    "        'age':20,\n",
    "        'grade':'A'\n",
    "    },\n",
    "    'student2':{\n",
    "        'name':'abhi',\n",
    "        'age':25,\n",
    "        'grade':'B'\n",
    "    }\n",
    "}\n",
    "print(students)\n",
    "print(students['student1'])\n",
    "print(students['student2'])\n",
    "print(students['student1']['name'])\n",
    "print(students['student2']['name'])\n",
    "\n"
   ]
  },
  {
   "cell_type": "code",
   "execution_count": 25,
   "metadata": {},
   "outputs": [
    {
     "name": "stdout",
     "output_type": "stream",
     "text": [
      "student1\n",
      "{'name': 'abhinav', 'age': 20, 'grade': 'A'}\n",
      "abhinav\n",
      "20\n",
      "A\n",
      "-----------------\n",
      "student2\n",
      "{'name': 'abhi', 'age': 25, 'grade': 'B'}\n",
      "abhi\n",
      "25\n",
      "B\n",
      "-----------------\n"
     ]
    }
   ],
   "source": [
    "## iterating over nested dictionary\n",
    "students={\n",
    "    'student1':{\n",
    "        'name':'abhinav',\n",
    "        'age':20,\n",
    "        'grade':'A'\n",
    "    },\n",
    "    'student2':{\n",
    "        'name':'abhi',\n",
    "        'age':25,\n",
    "        'grade':'B'\n",
    "    }\n",
    "}\n",
    "for student in students:\n",
    "    print(student)\n",
    "    print(students[student])\n",
    "    print(students[student]['name'])\n",
    "    print(students[student]['age'])\n",
    "    print(students[student]['grade'])\n",
    "    print('-----------------')\n",
    "    \n",
    "\n"
   ]
  },
  {
   "cell_type": "code",
   "execution_count": 26,
   "metadata": {},
   "outputs": [
    {
     "name": "stdout",
     "output_type": "stream",
     "text": [
      "{1: 1, 2: 4, 3: 9, 4: 16, 5: 25}\n"
     ]
    }
   ],
   "source": [
    "## dictionary comprehension\n",
    "numbers=[1,2,3,4,5]\n",
    "squared_numbers={num:num**2 for num in numbers}\n",
    "print(squared_numbers)\n"
   ]
  },
  {
   "cell_type": "code",
   "execution_count": 27,
   "metadata": {},
   "outputs": [
    {
     "name": "stdout",
     "output_type": "stream",
     "text": [
      "{2: 4, 4: 16}\n"
     ]
    }
   ],
   "source": [
    "## dictionary comprehension with if condition\n",
    "numbers=[1,2,3,4,5]\n",
    "squared_numbers={num:num**2 for num in numbers if num%2==0}\n",
    "print(squared_numbers)\n"
   ]
  },
  {
   "cell_type": "code",
   "execution_count": 28,
   "metadata": {},
   "outputs": [
    {
     "name": "stdout",
     "output_type": "stream",
     "text": [
      "{1: 1, 2: 4, 3: 27, 4: 16, 5: 125}\n"
     ]
    }
   ],
   "source": [
    "## dictionary comprehension with if else condition\n",
    "numbers=[1,2,3,4,5]\n",
    "squared_numbers={num:num**2 if num%2==0 else num**3 for num in numbers}\n",
    "print(squared_numbers)"
   ]
  },
  {
   "cell_type": "code",
   "execution_count": 29,
   "metadata": {},
   "outputs": [
    {
     "name": "stdout",
     "output_type": "stream",
     "text": [
      "{'a': 2, 'b': 1, 'h': 1, 'i': 1, 'n': 1, 'v': 1}\n"
     ]
    }
   ],
   "source": [
    "## practice\n",
    "\n",
    "#1 - use a dictionary to count the frequency of letters in the input string.\n",
    "string='abhinav'\n",
    "frequency={char:string.count(char) for char in string}\n",
    "print(frequency)"
   ]
  },
  {
   "cell_type": "code",
   "execution_count": 30,
   "metadata": {},
   "outputs": [
    {
     "name": "stdout",
     "output_type": "stream",
     "text": [
      "{1: 2, 2: 2, 3: 2, 4: 2, 5: 2}\n"
     ]
    }
   ],
   "source": [
    "#2- use a dictionary to count he frequency of elements in the input list.\n",
    "numbers=[1,2,3,4,5,1,2,3,4,5]\n",
    "frequency={}\n",
    "for num in numbers:\n",
    "    if num in frequency:\n",
    "        frequency[num]+=1\n",
    "    else:\n",
    "        frequency[num]=1\n",
    "print(frequency)\n"
   ]
  },
  {
   "cell_type": "code",
   "execution_count": null,
   "metadata": {},
   "outputs": [
    {
     "name": "stdout",
     "output_type": "stream",
     "text": [
      "{'a': 1, 'b': 2, 'c': 3, 'd': 4}\n"
     ]
    }
   ],
   "source": [
    "#3- merge two dictionaries\n",
    "dict1={'a':1,'b':2}\n",
    "dict2={'c':3,'d':4}\n",
    "dict1.update(dict2) ## or dict1={**dict1,**dict2}\n",
    "print(dict1)"
   ]
  },
  {
   "cell_type": "code",
   "execution_count": null,
   "metadata": {},
   "outputs": [],
   "source": []
  }
 ],
 "metadata": {
  "kernelspec": {
   "display_name": "Python 3",
   "language": "python",
   "name": "python3"
  },
  "language_info": {
   "codemirror_mode": {
    "name": "ipython",
    "version": 3
   },
   "file_extension": ".py",
   "mimetype": "text/x-python",
   "name": "python",
   "nbconvert_exporter": "python",
   "pygments_lexer": "ipython3",
   "version": "3.12.3"
  }
 },
 "nbformat": 4,
 "nbformat_minor": 2
}
