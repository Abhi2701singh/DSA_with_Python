{
 "cells": [
  {
   "cell_type": "markdown",
   "metadata": {},
   "source": [
    "### Example - 1 "
   ]
  },
  {
   "cell_type": "markdown",
   "metadata": {},
   "source": [
    "create a todo list to keep  track of tasks"
   ]
  },
  {
   "cell_type": "code",
   "execution_count": 2,
   "metadata": {},
   "outputs": [
    {
     "name": "stdout",
     "output_type": "stream",
     "text": [
      "Walk Dog is not in the list.\n",
      "-Buy Groceries\n",
      "-Clean House\n",
      "-Cook Dinner\n",
      "-Wash Dishes\n",
      "-Fold Laundry\n",
      "-Pay Bills\n",
      "-File Taxes\n",
      "-Call Mom\n",
      "-Read Book\n"
     ]
    }
   ],
   "source": [
    "todo_list=[\"Buy Groceries\", \"Clean House\", \"Cook Dinner\", \"Wash Dishes\", \"Walk Dog\"]\n",
    "\n",
    "todo_list.append(\"Fold Laundry\")\n",
    "todo_list.append(\"Pay Bills\")\n",
    "todo_list.append(\"File Taxes\")\n",
    "todo_list.append(\"Call Mom\")\n",
    "todo_list.append(\"Read Book\")\n",
    "\n",
    "## removing a completed task\n",
    "\n",
    "todo_list.remove(\"Walk Dog\")\n",
    "\n",
    "## checking if a task is in the list\n",
    "\n",
    "if \"Walk Dog\" in todo_list:\n",
    "    print(\"Walk Dog is in the list.\")\n",
    "else:\n",
    "    print(\"Walk Dog is not in the list.\")\n",
    "\n",
    "## printing the list\n",
    "\n",
    "for task in todo_list:\n",
    "    print(f\"-{task}\")\n"
   ]
  }
 ],
 "metadata": {
  "kernelspec": {
   "display_name": "Python 3",
   "language": "python",
   "name": "python3"
  },
  "language_info": {
   "codemirror_mode": {
    "name": "ipython",
    "version": 3
   },
   "file_extension": ".py",
   "mimetype": "text/x-python",
   "name": "python",
   "nbconvert_exporter": "python",
   "pygments_lexer": "ipython3",
   "version": "3.12.3"
  }
 },
 "nbformat": 4,
 "nbformat_minor": 2
}
